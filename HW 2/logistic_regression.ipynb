{
 "cells": [
  {
   "cell_type": "markdown",
   "id": "7d8e9914",
   "metadata": {},
   "source": [
    "# Logistic Regression Coding Implementation\n",
    "\n",
    "In this homework, you need to fill the TODOs in the provided code. \n",
    "\n",
    "We have provided with you the code for loading the dataset, splitting it into training and testing sets. You will need to perform logistic regression on the training data (using new_train_data, train_labels) and evaluate on the X_test data (that is, compute the accuracy using predicted result vs test_labels). You will also visualize the result.\n",
    "\n",
    "You are allowed to use existing machine learning package, such as sklearn.\n",
    "\n",
    "For submission, you need to submit the completed ipynb file and also report the accuracy & visualization result in the homework pdf file."
   ]
  },
  {
   "cell_type": "code",
   "execution_count": null,
   "id": "675666fb",
   "metadata": {},
   "outputs": [],
   "source": [
    "import numpy as np\n",
    "import matplotlib.pyplot as plt\n",
    "\n",
    "# ============= Data Preparation. DO NOT change the code below =============\n",
    "train_data = np.load(file=\"train_data.npy\")\n",
    "train_labels = np.load(file=\"train_labels.npy\")\n",
    "test_data = np.load(file=\"test_data.npy\")\n",
    "test_labels = np.load(file=\"test_labels.npy\")\n",
    "\n",
    "def calculate_symmetry(n):\n",
    "    sym = np.array(n)\n",
    "    sym = sym.reshape(16, 16)\n",
    "\n",
    "    for i in range(0, 16):\n",
    "        sym[i] = np.flip(sym[i])\n",
    "\n",
    "    sym = sym.reshape(\n",
    "        256,\n",
    "    )\n",
    "\n",
    "    return -np.linalg.norm(n - sym, 1)\n",
    "\n",
    "def calculate_intensity(n):\n",
    "    return np.mean(n) * n.shape[0]\n",
    "\n",
    "def get_data(orig, new):\n",
    "    for i in range(0, orig.shape[0]):\n",
    "        new[i][0] = calculate_symmetry(orig[i])\n",
    "        new[i][1] = calculate_intensity(orig[i])\n",
    "\n",
    "    return new\n",
    "\n",
    "\n",
    "new_train_data = np.zeros((train_data.shape[0], 2))\n",
    "new_train_data = get_data(train_data, new_train_data)\n",
    "\n",
    "new_test_data = np.zeros((test_data.shape[0], 2))\n",
    "new_test_data = get_data(test_data, new_test_data)"
   ]
  },
  {
   "cell_type": "code",
   "execution_count": null,
   "id": "3b8810fa",
   "metadata": {},
   "outputs": [],
   "source": [
    "# TODO: Implement Logestic Regression and Predict on Test Dataset.\n",
    "# You can use package like sklearn.linear_model.LinearRegression\n",
    "from sklearn.linear_model import LogisticRegression\n",
    "# ===== Training Logistic Regression using sklearn =====\n",
    "\n",
    "# ============================================================"
   ]
  },
  {
   "cell_type": "code",
   "execution_count": null,
   "id": "99e2fec9",
   "metadata": {},
   "outputs": [],
   "source": [
    "def plot_with_boundary(X_train, y_train, X_test, y_test, model):\n",
    "    fig, ax = plt.subplots(1, 2, figsize=(20, 10))\n",
    "\n",
    "    x1_min, x1_max = min(X_train[:,0].min(), X_test[:,0].min()) - 1, max(X_train[:,0].max(), X_test[:,0].max()) + 1\n",
    "    x2_min, x2_max = min(X_train[:,1].min(), X_test[:,1].min()) - 1, max(X_train[:,1].max(), X_test[:,1].max()) + 1\n",
    "    xx1, xx2 = np.meshgrid(np.linspace(x1_min, x1_max, 200), np.linspace(x2_min, x2_max, 200))\n",
    "    grid = np.c_[xx1.ravel(), xx2.ravel()]\n",
    "    probs = model.predict(grid).reshape(xx1.shape)\n",
    "\n",
    "    # Training plot\n",
    "    ax[0].contour(xx1, xx2, probs, levels=[0], linewidths=2, colors='black')\n",
    "    for i in range(X_train.shape[0]):\n",
    "        color = 'blue' if y_train[i] == 1 else 'red'\n",
    "        ax[0].text(X_train[i,0], X_train[i,1], str(y_train[i]), fontsize=8, ha='center', va='center', color=color)\n",
    "    ax[0].set_xlabel(\"symmetry\")\n",
    "    ax[0].set_ylabel(\"total intensity\")\n",
    "    ax[0].set_title(\"Decision Boundary - Train Data\")\n",
    "    ax[0].set_xlim(x1_min, x1_max)\n",
    "    ax[0].set_ylim(x2_min, x2_max)\n",
    "\n",
    "    # Testing plot\n",
    "    ax[1].contour(xx1, xx2, probs, levels=[0], linewidths=2, colors='black')\n",
    "    for i in range(X_test.shape[0]):\n",
    "        color = 'blue' if y_test[i] == 1 else 'red'\n",
    "        ax[1].text(X_test[i,0], X_test[i,1], str(y_test[i]), fontsize=8, ha='center', va='center', color=color)\n",
    "    ax[1].set_xlabel(\"symmetry\")\n",
    "    ax[1].set_ylabel(\"total intensity\")\n",
    "    ax[1].set_title(\"Decision Boundary - Test Data\")\n",
    "    ax[1].set_xlim(x1_min, x1_max)\n",
    "    ax[1].set_ylim(x2_min, x2_max)\n",
    "\n",
    "    plt.show()\n",
    "\n",
    "# TODO: Visualization =======================================\n",
    "# You may use the provided visualization function\n",
    "# Or you can implement one yourself\n",
    "\n",
    "# ============================================================"
   ]
  },
  {
   "cell_type": "code",
   "execution_count": null,
   "id": "0c394831",
   "metadata": {},
   "outputs": [],
   "source": [
    "from sklearn.metrics import accuracy_score\n",
    "# TODO: Report Acc ===========================================\n",
    "# You may use package such as sklearn.metrics.accuracy_score\n",
    "\n",
    "\n",
    "# ============================================================"
   ]
  }
 ],
 "metadata": {
  "kernelspec": {
   "display_name": "Python 3.8.8 ('base')",
   "language": "python",
   "name": "python3"
  },
  "language_info": {
   "codemirror_mode": {
    "name": "ipython",
    "version": 3
   },
   "file_extension": ".py",
   "mimetype": "text/x-python",
   "name": "python",
   "nbconvert_exporter": "python",
   "pygments_lexer": "ipython3",
   "version": "3.8.8"
  },
  "vscode": {
   "interpreter": {
    "hash": "d3a4a0f59760d5cfbcf3f86c6a4be57c12c54524d76afaa5894e9a5f50ef286d"
   }
  }
 },
 "nbformat": 4,
 "nbformat_minor": 5
}
