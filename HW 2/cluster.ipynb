{
 "cells": [
  {
   "cell_type": "markdown",
   "id": "7d8e9914",
   "metadata": {},
   "source": [
    "# KMeans Coding Implementation\n",
    "\n",
    "In this homework, you need to fill the TODOs in the provided code. \n",
    "\n",
    "We have provided with you the code for preparing the dataset. You will need to perform KMeans on the data and visualize the result.\n",
    "\n",
    "IMPORTANT: You are **NOT** allowed to use existing machine learning package, such as sklearn.\n",
    "\n",
    "For submission, you need to submit the completed ipynb file and also report the visualization result in the homework pdf file."
   ]
  },
  {
   "cell_type": "code",
   "execution_count": null,
   "id": "675666fb",
   "metadata": {},
   "outputs": [],
   "source": [
    "import numpy as np\n",
    "import matplotlib.pyplot as plt\n",
    "from sklearn.datasets import make_blobs\n",
    "\n",
    "# Data Preparation. DO NOT change the code below =============\n",
    "# Particularly, DO NOT change the random_state. \n",
    "X, y_true = make_blobs(n_samples=300, centers=3, cluster_std=0.60, random_state=42)\n",
    "# ============================================================"
   ]
  },
  {
   "cell_type": "code",
   "execution_count": null,
   "id": "3b8810fa",
   "metadata": {},
   "outputs": [],
   "source": [
    "# TODO: Implement Kmeans.\n",
    "# You CANNOT use machine learning package like sklearn ======\n",
    "def kmeans(X, k, iterations=100):\n",
    "    raise NotImplementedError\n",
    "\n",
    "# ============================================================"
   ]
  },
  {
   "cell_type": "code",
   "execution_count": null,
   "id": "89e7cb8b",
   "metadata": {},
   "outputs": [],
   "source": [
    "# KMeans Running. DO NOT change the code below ===============\n",
    "k = 3\n",
    "y_kmeans, centers = kmeans(X, k)\n",
    "# ============================================================"
   ]
  },
  {
   "cell_type": "code",
   "execution_count": null,
   "id": "99e2fec9",
   "metadata": {},
   "outputs": [],
   "source": [
    "# TODO: Visualization =======================================\n",
    "# You will need to visualize the classified results of data points using different colors.\n",
    "# You will also need to label the centroids.\n",
    "\n",
    "# ============================================================"
   ]
  }
 ],
 "metadata": {
  "kernelspec": {
   "display_name": "Python 3.8.8 ('base')",
   "language": "python",
   "name": "python3"
  },
  "language_info": {
   "codemirror_mode": {
    "name": "ipython",
    "version": 3
   },
   "file_extension": ".py",
   "mimetype": "text/x-python",
   "name": "python",
   "nbconvert_exporter": "python",
   "pygments_lexer": "ipython3",
   "version": "3.8.8"
  },
  "vscode": {
   "interpreter": {
    "hash": "d3a4a0f59760d5cfbcf3f86c6a4be57c12c54524d76afaa5894e9a5f50ef286d"
   }
  }
 },
 "nbformat": 4,
 "nbformat_minor": 5
}
