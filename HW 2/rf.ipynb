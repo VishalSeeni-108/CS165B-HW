{
 "cells": [
  {
   "cell_type": "markdown",
   "id": "7d8e9914",
   "metadata": {},
   "source": [
    "# Random Forest Coding Implementation\n",
    "\n",
    "In this homework, you need to fill the TODOs in the provided code. \n",
    "\n",
    "We have provided with you the code for preparing the dataset, splitting it into training and testing sets. You will need to implement the random forest on the training data (using X_train, y_train) and evaluate on the X_test data (that is, compute the accuracy). You will also visualize the results.\n",
    "\n",
    "You can use RandomForestClassifier in machine learning package like sklearn. You are also allowed to use DecisionTreeClassifier and other necessary helper package in your code.\n",
    "\n",
    "For submission, you need to submit the completed ipynb file and also report the acc & visualization result in the homework pdf file."
   ]
  },
  {
   "cell_type": "code",
   "execution_count": null,
   "id": "675666fb",
   "metadata": {},
   "outputs": [],
   "source": [
    "import numpy as np\n",
    "import matplotlib.pyplot as plt\n",
    "from sklearn.datasets import make_classification\n",
    "from sklearn.tree import DecisionTreeClassifier\n",
    "from collections import Counter\n",
    "from sklearn.model_selection import train_test_split\n",
    "\n",
    "\n",
    "# Data Preparation. DO NOT change the code below =============\n",
    "X, y = make_classification(n_samples=300, n_features=4, n_informative=2,\n",
    "                            n_redundant=0, n_classes=2, flip_y=0.03,\n",
    "                            random_state=42)\n",
    "\n",
    "\n",
    "X_train, X_test, y_train, y_test = train_test_split(X, y, test_size=0.3, random_state=42)\n",
    "# ============================================================"
   ]
  },
  {
   "cell_type": "code",
   "execution_count": null,
   "id": "3b8810fa",
   "metadata": {},
   "outputs": [],
   "source": [
    "# TODO: Implement Random Forest and perform prediction.\n",
    "# You can use RandomForestClassifier classifier.\n",
    "\n",
    "\n",
    "\n",
    "# ============================================================"
   ]
  },
  {
   "cell_type": "code",
   "execution_count": null,
   "id": "99e2fec9",
   "metadata": {},
   "outputs": [],
   "source": [
    "def plot_decision_boundary(X, y, model): # `model` is your RandomForestClassifier model.\n",
    "    x_min, x_max = X[:, 0].min() - 1, X[:, 0].max() + 1\n",
    "    y_min, y_max = X[:, 1].min() - 1, X[:, 1].max() + 1\n",
    "    xx, yy = np.meshgrid(np.arange(x_min, x_max, 0.1),\n",
    "                         np.arange(y_min, y_max, 0.1))\n",
    "    Z = model.predict(np.c_[xx.ravel(), yy.ravel(), np.zeros_like(xx.ravel()), np.zeros_like(xx.ravel())])\n",
    "    Z = Z.reshape(xx.shape)\n",
    "    plt.contourf(xx, yy, Z, alpha=0.4)\n",
    "    plt.scatter(X[:, 0], X[:, 1], c=y, s=20, edgecolor='k')\n",
    "    plt.title('Random Forest Decision Boundary')\n",
    "    plt.show()\n",
    "\n",
    "# TODO: Visualization and Evaluation ========================\n",
    "# You may use the helper code above, or implement it yourself\n",
    "\n",
    "# ============================================================"
   ]
  },
  {
   "cell_type": "code",
   "execution_count": null,
   "id": "9daec895",
   "metadata": {},
   "outputs": [],
   "source": [
    "# TODO: Report Accuracy on test dataset ======================\n"
   ]
  }
 ],
 "metadata": {
  "kernelspec": {
   "display_name": "Python 3.8.8 ('base')",
   "language": "python",
   "name": "python3"
  },
  "language_info": {
   "codemirror_mode": {
    "name": "ipython",
    "version": 3
   },
   "file_extension": ".py",
   "mimetype": "text/x-python",
   "name": "python",
   "nbconvert_exporter": "python",
   "pygments_lexer": "ipython3",
   "version": "3.8.8"
  },
  "vscode": {
   "interpreter": {
    "hash": "d3a4a0f59760d5cfbcf3f86c6a4be57c12c54524d76afaa5894e9a5f50ef286d"
   }
  }
 },
 "nbformat": 4,
 "nbformat_minor": 5
}
