{
 "cells": [
  {
   "cell_type": "markdown",
   "id": "7d8e9914",
   "metadata": {},
   "source": [
    "# Linear Regression Coding Implementation\n",
    "\n",
    "In this homework, you need to fill the TODOs in the provided code. \n",
    "\n",
    "We have provided with you the code for loading the dataset, splitting it into training and testing sets. You will need to perform linear regression on the training data (using X_train, y_train) and evaluate on the X_test data (that is, compute the RMSE between predicted result and y_test). \n",
    "\n",
    "You are allowed to use existing machine learning package, such as sklearn.\n",
    "\n",
    "For submission, you need to submit the completed ipynb file and also report the RMSE result in the homework pdf file."
   ]
  },
  {
   "cell_type": "code",
   "execution_count": 7,
   "id": "675666fb",
   "metadata": {},
   "outputs": [
    {
     "name": "stdout",
     "output_type": "stream",
     "text": [
      "Path to dataset files: C:\\Users\\visha\\.cache\\kagglehub\\datasets\\yasserh\\housing-prices-dataset\\versions\\1\n",
      "Dataset Head:\n",
      "      price  area  bedrooms  bathrooms  stories mainroad guestroom basement  \\\n",
      "0  13300000  7420         4          2        3      yes        no       no   \n",
      "1  12250000  8960         4          4        4      yes        no       no   \n",
      "2  12250000  9960         3          2        2      yes        no      yes   \n",
      "3  12215000  7500         4          2        2      yes        no      yes   \n",
      "4  11410000  7420         4          1        2      yes       yes      yes   \n",
      "\n",
      "  hotwaterheating airconditioning  parking prefarea furnishingstatus  \n",
      "0              no             yes        2      yes        furnished  \n",
      "1              no             yes        3       no        furnished  \n",
      "2              no              no        2      yes   semi-furnished  \n",
      "3              no             yes        3      yes        furnished  \n",
      "4              no             yes        2       no        furnished  \n"
     ]
    }
   ],
   "source": [
    "import kagglehub\n",
    "import pandas as pd\n",
    "import numpy as np\n",
    "from sklearn.model_selection import train_test_split\n",
    "\n",
    "# Data Preparation. DO NOT change the code below =============\n",
    "path = kagglehub.dataset_download(\"yasserh/housing-prices-dataset\")\n",
    "print(\"Path to dataset files:\", path)\n",
    "dataset_path = path + \"/housing.csv\"  # Adjust if the file name is different\n",
    "\n",
    "data = pd.read_csv(dataset_path)\n",
    "print(\"Dataset Head:\")\n",
    "print(data.head())\n",
    "\n",
    "def exclude_string_columns(df):\n",
    "    return df.select_dtypes(exclude=['object'])\n",
    "\n",
    "\n",
    "\n",
    "data = exclude_string_columns(data)\n",
    "\n",
    "data['price_log'] = np.log1p(data.iloc[:, 0])  # log(1 + price)\n",
    "X = data.iloc[:, 1:-1]  # All columns except the first (price) and last (price_log)\n",
    "y = data['price_log']   # Target is price_log\n",
    "X_train, X_test, y_train, y_test = train_test_split(X, y, test_size=0.2, random_state=42)\n",
    "# ============================================================"
   ]
  },
  {
   "cell_type": "code",
   "execution_count": 8,
   "id": "3b8810fa",
   "metadata": {},
   "outputs": [],
   "source": [
    "# TODO: Implement Linear Regression and Predict on Test Dataset.\n",
    "# You can use package like sklearn.linear_model.LinearRegression\n",
    "import sklearn.linear_model as sk_lm\n",
    "\n",
    "model = sk_lm.LinearRegression().fit(X_train, y_train)\n",
    "y_predicted = model.predict(X_test) \n",
    "\n",
    "# ============================================================"
   ]
  },
  {
   "cell_type": "code",
   "execution_count": 9,
   "id": "99e2fec9",
   "metadata": {},
   "outputs": [
    {
     "name": "stdout",
     "output_type": "stream",
     "text": [
      "RSME error for linear regression is: 0.2988421321455812\n"
     ]
    }
   ],
   "source": [
    "# TODO: Report RMSE error ====================================\n",
    "# You can use package like sklearn.metrics.mean_squared_error\n",
    "\n",
    "import sklearn.metrics as sk_metrics\n",
    "\n",
    "rsme_error = np.sqrt(sk_metrics.mean_squared_error(y_test, y_predicted))\n",
    "print(\"RSME error for linear regression is: \" + str(rsme_error))\n",
    "\n",
    "# ============================================================"
   ]
  }
 ],
 "metadata": {
  "kernelspec": {
   "display_name": "Python 3",
   "language": "python",
   "name": "python3"
  },
  "language_info": {
   "codemirror_mode": {
    "name": "ipython",
    "version": 3
   },
   "file_extension": ".py",
   "mimetype": "text/x-python",
   "name": "python",
   "nbconvert_exporter": "python",
   "pygments_lexer": "ipython3",
   "version": "3.13.0"
  }
 },
 "nbformat": 4,
 "nbformat_minor": 5
}
